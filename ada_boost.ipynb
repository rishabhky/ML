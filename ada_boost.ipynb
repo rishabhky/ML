{
 "cells": [
  {
   "cell_type": "code",
   "execution_count": null,
   "id": "a708b754-e6df-46a0-b577-e878c859871d",
   "metadata": {},
   "outputs": [],
   "source": [
    "# Import necessary libraries\n",
    "from sklearn.datasets import load_iris\n",
    "from sklearn.model_selection import train_test_split\n",
    "from sklearn.metrics import accuracy_score\n",
    "from sklearn.ensemble import AdaBoostClassifier\n",
    "from sklearn.tree import DecisionTreeClassifier\n",
    "\n",
    "# Load the iris dataset\n",
    "iris = load_iris()\n",
    "X = iris.data\n",
    "y = iris.target\n",
    "\n",
    "# Split into train and test sets\n",
    "X_train, X_test, y_train, y_test = train_test_split(X, y, test_size=0.2, random_state=1)\n",
    "\n",
    "# Create and fit AdaBoost classifier with DecisionTree as base estimator\n",
    "# max_depth=1 creates a weak learner (stump)\n",
    "base_estimator = DecisionTreeClassifier(max_depth=1)\n",
    "ada = AdaBoostClassifier(base_estimator=base_estimator, n_estimators=50, learning_rate=1, random_state=1)\n",
    "ada.fit(X_train, y_train)\n",
    "\n",
    "# Make predictions on test set\n",
    "y_pred = ada.predict(X_test)\n",
    "\n",
    "# Calculate accuracy score\n",
    "accuracy = accuracy_score(y_test, y_pred)\n",
    "print('Accuracy:', accuracy)\n"
   ]
  },
  {
   "cell_type": "code",
   "execution_count": null,
   "id": "bdabfaf7-bae2-4797-85ed-eca39f2a546e",
   "metadata": {},
   "outputs": [],
   "source": []
  }
 ],
 "metadata": {
  "kernelspec": {
   "display_name": "Python 3 (ipykernel)",
   "language": "python",
   "name": "python3"
  },
  "language_info": {
   "codemirror_mode": {
    "name": "ipython",
    "version": 3
   },
   "file_extension": ".py",
   "mimetype": "text/x-python",
   "name": "python",
   "nbconvert_exporter": "python",
   "pygments_lexer": "ipython3",
   "version": "3.11.0"
  }
 },
 "nbformat": 4,
 "nbformat_minor": 5
}
